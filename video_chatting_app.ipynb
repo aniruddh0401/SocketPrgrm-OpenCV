{
 "cells": [
  {
   "cell_type": "code",
   "execution_count": 3,
   "metadata": {},
   "outputs": [
    {
     "name": "stderr",
     "output_type": "stream",
     "text": [
      "Exception in thread Thread-8:\n",
      "Traceback (most recent call last):\n",
      "  File \"C:\\Users\\user\\anaconda3\\lib\\threading.py\", line 932, in _bootstrap_inner\n",
      "    self.run()\n",
      "  File \"C:\\Users\\user\\anaconda3\\lib\\threading.py\", line 870, in run\n",
      "    self._target(*self._args, **self._kwargs)\n",
      "  File \"<ipython-input-3-0ae2c2a93675>\", line 18, in reciever\n",
      "OSError: [WinError 10048] Only one usage of each socket address (protocol/network address/port) is normally permitted\n",
      "Exception in thread Thread-7:\n",
      "Traceback (most recent call last):\n",
      "  File \"C:\\Users\\user\\anaconda3\\lib\\threading.py\", line 932, in _bootstrap_inner\n",
      "    self.run()\n",
      "  File \"C:\\Users\\user\\anaconda3\\lib\\threading.py\", line 870, in run\n",
      "    self._target(*self._args, **self._kwargs)\n",
      "  File \"<ipython-input-2-0ae2c2a93675>\", line 33, in sender\n",
      "TypeError: 'NoneType' object is not subscriptable\n"
     ]
    }
   ],
   "source": [
    "import socket\n",
    "import cv2\n",
    "import numpy as np\n",
    "import os\n",
    "import threading\n",
    "\n",
    "afn=socket.AF_INET\n",
    "pn=socket.SOCK_DGRAM\n",
    "s=socket.socket(afn,pn)\n",
    "\n",
    "ip1=\"192.168.0.16\"\n",
    "port1=1234\n",
    "\n",
    "ip2=\"192.168.0.2\"\n",
    "port2=4321\n",
    "    \n",
    "def reciever():\n",
    "    s.bind((ip1,port1))\n",
    "    while True:\n",
    "        x=s.recvfrom(65530)\n",
    "        img=np.asarray(bytearray(x[0]), dtype=\"uint8\")\n",
    "        img=img.reshape(-1,1)\n",
    "        dec1=cv2.imdecode(img,cv2.IMREAD_COLOR)\n",
    "        cv2.imshow(\"t\",dec1)\n",
    "        if cv2.waitKey(1)==13:\n",
    "            break\n",
    "    cv2.destroyAllWindows()\n",
    "\n",
    "def sender():\n",
    "    while True:\n",
    "        cap=cv2.VideoCapture(0)\n",
    "        ret,photo=cap.read()\n",
    "        ret,photo1 = cv2.imencode(\".jpg\",photo[:400,:400])\n",
    "        ds=photo1.tobytes()\n",
    "        s.sendto(ds, (ip2, port2))\n",
    "        if cv2.waitKey(1) == 13:\n",
    "            break\n",
    "\n",
    "    cv2.destroyAllWindows()\n",
    "    cap.release()\n",
    "\n",
    "thread1=threading.Thread(target=reciever)\n",
    "thread2=threading.Thread(target=sender)\n",
    "\n",
    "thread1.start()\n",
    "thread2.start()\n",
    "\n"
   ]
  },
  {
   "cell_type": "code",
   "execution_count": null,
   "metadata": {},
   "outputs": [],
   "source": []
  }
 ],
 "metadata": {
  "kernelspec": {
   "display_name": "Python 3",
   "language": "python",
   "name": "python3"
  },
  "language_info": {
   "codemirror_mode": {
    "name": "ipython",
    "version": 3
   },
   "file_extension": ".py",
   "mimetype": "text/x-python",
   "name": "python",
   "nbconvert_exporter": "python",
   "pygments_lexer": "ipython3",
   "version": "3.8.3"
  }
 },
 "nbformat": 4,
 "nbformat_minor": 4
}
